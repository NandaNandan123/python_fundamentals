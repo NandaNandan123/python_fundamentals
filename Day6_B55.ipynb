{
 "cells": [
  {
   "cell_type": "code",
   "execution_count": 1,
   "id": "34a284ce",
   "metadata": {},
   "outputs": [],
   "source": [
    "students = ['nandan','gontla','krishna','ashok','arjun']"
   ]
  },
  {
   "cell_type": "code",
   "execution_count": 2,
   "id": "cfb2e958",
   "metadata": {},
   "outputs": [
    {
     "name": "stdout",
     "output_type": "stream",
     "text": [
      "['nandan', 'gontla', 'krishna', 'ashok', 'arjun']\n"
     ]
    }
   ],
   "source": [
    "print(students)"
   ]
  },
  {
   "cell_type": "code",
   "execution_count": 4,
   "id": "3008aab7",
   "metadata": {},
   "outputs": [
    {
     "name": "stdout",
     "output_type": "stream",
     "text": [
      "very nice {'Nandan'}\n"
     ]
    }
   ],
   "source": [
    "print(f\"very nice\",{students[0].title()})"
   ]
  },
  {
   "cell_type": "code",
   "execution_count": 15,
   "id": "57259a21",
   "metadata": {},
   "outputs": [
    {
     "name": "stdout",
     "output_type": "stream",
     "text": [
      "very good work,Nandan\n",
      "very good work,Gontla\n",
      "very good work,Krishna\n",
      "very good work,Ashok\n",
      "very good work,Arjun\n"
     ]
    }
   ],
   "source": [
    "for x in students:\n",
    "    print(f\"very good work,{x.title()}\")"
   ]
  },
  {
   "cell_type": "code",
   "execution_count": 7,
   "id": "224313fe",
   "metadata": {},
   "outputs": [
    {
     "name": "stdout",
     "output_type": "stream",
     "text": [
      "NANDAN\n",
      "GONTLA\n",
      "KRISHNA\n",
      "ASHOK\n",
      "ARJUN\n"
     ]
    }
   ],
   "source": [
    "for nandan in students:\n",
    "    print(nandan.upper())"
   ]
  },
  {
   "cell_type": "code",
   "execution_count": 18,
   "id": "7b0d7f6b",
   "metadata": {},
   "outputs": [
    {
     "name": "stdout",
     "output_type": "stream",
     "text": [
      "good work,Nandan\n",
      "very nice to meet you,Nandan\n",
      "good work,Gontla\n",
      "very nice to meet you,Gontla\n",
      "good work,Krishna\n",
      "very nice to meet you,Krishna\n",
      "good work,Ashok\n",
      "very nice to meet you,Ashok\n",
      "good work,Arjun\n",
      "very nice to meet you,Arjun\n"
     ]
    }
   ],
   "source": [
    "for x in students:\n",
    "    print(f\"good work,{x.title()}\")\n",
    "    print(f\"very nice to meet you,{x.title()}\")"
   ]
  },
  {
   "cell_type": "code",
   "execution_count": 20,
   "id": "62ce7a4b",
   "metadata": {},
   "outputs": [
    {
     "name": "stdout",
     "output_type": "stream",
     "text": [
      "good work,NANDAN\n",
      "very nice to meet you,Nandan\n",
      "\n",
      "good work,GONTLA\n",
      "very nice to meet you,Gontla\n",
      "\n",
      "good work,KRISHNA\n",
      "very nice to meet you,Krishna\n",
      "\n",
      "good work,ASHOK\n",
      "very nice to meet you,Ashok\n",
      "\n",
      "good work,ARJUN\n",
      "very nice to meet you,Arjun\n",
      "\n"
     ]
    }
   ],
   "source": [
    "for x in students:\n",
    "    print(f\"good work,{x.upper()}\")\n",
    "    print(f\"very nice to meet you,{x.title()}\\n\")"
   ]
  },
  {
   "cell_type": "code",
   "execution_count": null,
   "id": "5c6725c7",
   "metadata": {},
   "outputs": [],
   "source": []
  },
  {
   "cell_type": "code",
   "execution_count": null,
   "id": "29699ca0",
   "metadata": {},
   "outputs": [],
   "source": []
  },
  {
   "cell_type": "code",
   "execution_count": null,
   "id": "d2da3427",
   "metadata": {},
   "outputs": [],
   "source": []
  }
 ],
 "metadata": {
  "kernelspec": {
   "display_name": "Python 3 (ipykernel)",
   "language": "python",
   "name": "python3"
  },
  "language_info": {
   "codemirror_mode": {
    "name": "ipython",
    "version": 3
   },
   "file_extension": ".py",
   "mimetype": "text/x-python",
   "name": "python",
   "nbconvert_exporter": "python",
   "pygments_lexer": "ipython3",
   "version": "3.10.1"
  }
 },
 "nbformat": 4,
 "nbformat_minor": 5
}
