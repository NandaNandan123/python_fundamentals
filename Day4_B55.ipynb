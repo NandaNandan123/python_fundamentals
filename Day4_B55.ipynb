{
 "cells": [
  {
   "cell_type": "code",
   "execution_count": 1,
   "id": "c73f4e99",
   "metadata": {},
   "outputs": [],
   "source": [
    "students =['nandan','ravi','krishna','ashok']"
   ]
  },
  {
   "cell_type": "code",
   "execution_count": 2,
   "id": "e0a8fa25",
   "metadata": {},
   "outputs": [
    {
     "name": "stdout",
     "output_type": "stream",
     "text": [
      "['nandan', 'ravi', 'krishna', 'ashok']\n"
     ]
    }
   ],
   "source": [
    "print(students)"
   ]
  },
  {
   "cell_type": "code",
   "execution_count": 3,
   "id": "94eb1534",
   "metadata": {},
   "outputs": [
    {
     "data": {
      "text/plain": [
       "list"
      ]
     },
     "execution_count": 3,
     "metadata": {},
     "output_type": "execute_result"
    }
   ],
   "source": [
    "type(students)"
   ]
  },
  {
   "cell_type": "code",
   "execution_count": 4,
   "id": "eda4c156",
   "metadata": {},
   "outputs": [
    {
     "name": "stdout",
     "output_type": "stream",
     "text": [
      "ravi\n"
     ]
    }
   ],
   "source": [
    "print(students[1])"
   ]
  },
  {
   "cell_type": "code",
   "execution_count": 5,
   "id": "4122a791",
   "metadata": {},
   "outputs": [
    {
     "name": "stdout",
     "output_type": "stream",
     "text": [
      "nandan\n"
     ]
    }
   ],
   "source": [
    "print(students[0])"
   ]
  },
  {
   "cell_type": "code",
   "execution_count": 6,
   "id": "ddec9fb1",
   "metadata": {},
   "outputs": [],
   "source": [
    "students.append('ram')"
   ]
  },
  {
   "cell_type": "code",
   "execution_count": 7,
   "id": "3d11b165",
   "metadata": {},
   "outputs": [
    {
     "name": "stdout",
     "output_type": "stream",
     "text": [
      "['nandan', 'ravi', 'krishna', 'ashok', 'ram']\n"
     ]
    }
   ],
   "source": [
    "print(students)"
   ]
  },
  {
   "cell_type": "code",
   "execution_count": 9,
   "id": "7f555454",
   "metadata": {},
   "outputs": [],
   "source": [
    "students.insert(2,'arjun')"
   ]
  },
  {
   "cell_type": "code",
   "execution_count": 10,
   "id": "2712b4ab",
   "metadata": {},
   "outputs": [
    {
     "name": "stdout",
     "output_type": "stream",
     "text": [
      "['nandan', 'ravi', 'arjun', 'krishna', 'ashok', 'ram']\n"
     ]
    }
   ],
   "source": [
    "print(students)"
   ]
  },
  {
   "cell_type": "code",
   "execution_count": 11,
   "id": "8871232f",
   "metadata": {},
   "outputs": [],
   "source": [
    "students[3] ='kishore'"
   ]
  },
  {
   "cell_type": "code",
   "execution_count": 12,
   "id": "039f04e9",
   "metadata": {},
   "outputs": [
    {
     "name": "stdout",
     "output_type": "stream",
     "text": [
      "['nandan', 'ravi', 'arjun', 'kishore', 'ashok', 'ram']\n"
     ]
    }
   ],
   "source": [
    "print(students)"
   ]
  },
  {
   "cell_type": "code",
   "execution_count": 13,
   "id": "6377c8f7",
   "metadata": {},
   "outputs": [],
   "source": [
    "del students[4]"
   ]
  },
  {
   "cell_type": "code",
   "execution_count": 14,
   "id": "bc09e451",
   "metadata": {},
   "outputs": [
    {
     "name": "stdout",
     "output_type": "stream",
     "text": [
      "['nandan', 'ravi', 'arjun', 'kishore', 'ram']\n"
     ]
    }
   ],
   "source": [
    "print(students)"
   ]
  },
  {
   "cell_type": "code",
   "execution_count": null,
   "id": "5be6e983",
   "metadata": {},
   "outputs": [],
   "source": []
  },
  {
   "cell_type": "code",
   "execution_count": null,
   "id": "c1f86b83",
   "metadata": {},
   "outputs": [],
   "source": []
  },
  {
   "cell_type": "code",
   "execution_count": null,
   "id": "3567e2da",
   "metadata": {},
   "outputs": [],
   "source": []
  }
 ],
 "metadata": {
  "kernelspec": {
   "display_name": "Python 3 (ipykernel)",
   "language": "python",
   "name": "python3"
  },
  "language_info": {
   "codemirror_mode": {
    "name": "ipython",
    "version": 3
   },
   "file_extension": ".py",
   "mimetype": "text/x-python",
   "name": "python",
   "nbconvert_exporter": "python",
   "pygments_lexer": "ipython3",
   "version": "3.10.1"
  }
 },
 "nbformat": 4,
 "nbformat_minor": 5
}
