{
 "cells": [
  {
   "cell_type": "code",
   "execution_count": 1,
   "id": "00d95c62",
   "metadata": {},
   "outputs": [
    {
     "name": "stdout",
     "output_type": "stream",
     "text": [
      "nandan\n"
     ]
    }
   ],
   "source": [
    "full_name ='nandan'\n",
    "print(full_name)"
   ]
  },
  {
   "cell_type": "code",
   "execution_count": 2,
   "id": "7232fde0",
   "metadata": {},
   "outputs": [
    {
     "name": "stdout",
     "output_type": "stream",
     "text": [
      "Nandan\n"
     ]
    }
   ],
   "source": [
    "print(full_name.title())"
   ]
  },
  {
   "cell_type": "code",
   "execution_count": 3,
   "id": "486363d1",
   "metadata": {},
   "outputs": [
    {
     "name": "stdout",
     "output_type": "stream",
     "text": [
      "NANDAN\n"
     ]
    }
   ],
   "source": [
    "print(full_name.upper())"
   ]
  },
  {
   "cell_type": "code",
   "execution_count": 4,
   "id": "1639ad34",
   "metadata": {},
   "outputs": [
    {
     "name": "stdout",
     "output_type": "stream",
     "text": [
      "nandan\n"
     ]
    }
   ],
   "source": [
    "print(full_name.lower())"
   ]
  },
  {
   "cell_type": "code",
   "execution_count": 1,
   "id": "f50887db",
   "metadata": {},
   "outputs": [],
   "source": [
    "firstname ='nandan'\n",
    "lastname ='gontla'"
   ]
  },
  {
   "cell_type": "code",
   "execution_count": 18,
   "id": "a397c362",
   "metadata": {},
   "outputs": [
    {
     "data": {
      "text/plain": [
       "str"
      ]
     },
     "execution_count": 18,
     "metadata": {},
     "output_type": "execute_result"
    }
   ],
   "source": [
    "type(firstname)"
   ]
  },
  {
   "cell_type": "code",
   "execution_count": 42,
   "id": "5703faa8",
   "metadata": {},
   "outputs": [],
   "source": [
    "firstname ='nandan'\n",
    "lastname ='gontla'"
   ]
  },
  {
   "cell_type": "code",
   "execution_count": 47,
   "id": "e90a569e",
   "metadata": {},
   "outputs": [
    {
     "name": "stdout",
     "output_type": "stream",
     "text": [
      "nandan gontla\n"
     ]
    }
   ],
   "source": [
    "print(firstname,lastname)"
   ]
  },
  {
   "cell_type": "code",
   "execution_count": 51,
   "id": "e03a2487",
   "metadata": {},
   "outputs": [
    {
     "name": "stdout",
     "output_type": "stream",
     "text": [
      "favaroite_hero:alluarjunpawankalyanntrprabhasmaheshbabu\n"
     ]
    }
   ],
   "source": [
    "print(\"favaroite_hero:alluarjunpawankalyanntrprabhasmaheshbabu\")"
   ]
  },
  {
   "cell_type": "code",
   "execution_count": 50,
   "id": "cd794b7d",
   "metadata": {},
   "outputs": [
    {
     "name": "stdout",
     "output_type": "stream",
     "text": [
      "favaroite_hero:alluarjun\n",
      "pawankalyan\n",
      "ntr\n",
      "prabhas\n",
      "maheshbabu\n"
     ]
    }
   ],
   "source": [
    "print(\"favaroite_hero:alluarjun\\npawankalyan\\nntr\\nprabhas\\nmaheshbabu\")"
   ]
  },
  {
   "cell_type": "code",
   "execution_count": 52,
   "id": "48c255f2",
   "metadata": {},
   "outputs": [
    {
     "name": "stdout",
     "output_type": "stream",
     "text": [
      "favaroite_hero:alluarjun\n",
      "\tpawankalyan\n",
      "\tntr\n",
      "\tprabhas\n",
      "\tmaheshbabu\n"
     ]
    }
   ],
   "source": [
    "print(\"favaroite_hero:alluarjun\\n\\tpawankalyan\\n\\tntr\\n\\tprabhas\\n\\tmaheshbabu\")"
   ]
  },
  {
   "cell_type": "code",
   "execution_count": 53,
   "id": "1e5c538f",
   "metadata": {},
   "outputs": [],
   "source": [
    "name =' nandan'"
   ]
  },
  {
   "cell_type": "code",
   "execution_count": 54,
   "id": "f081cc60",
   "metadata": {},
   "outputs": [
    {
     "name": "stdout",
     "output_type": "stream",
     "text": [
      " nandan\n"
     ]
    }
   ],
   "source": [
    "print(name)"
   ]
  },
  {
   "cell_type": "code",
   "execution_count": 55,
   "id": "15eb0a6b",
   "metadata": {},
   "outputs": [
    {
     "data": {
      "text/plain": [
       "'nandan'"
      ]
     },
     "execution_count": 55,
     "metadata": {},
     "output_type": "execute_result"
    }
   ],
   "source": [
    "name.lstrip()"
   ]
  },
  {
   "cell_type": "code",
   "execution_count": 56,
   "id": "0841572c",
   "metadata": {},
   "outputs": [],
   "source": [
    "name1 =' gontla '"
   ]
  },
  {
   "cell_type": "code",
   "execution_count": 58,
   "id": "f8e5fc73",
   "metadata": {},
   "outputs": [
    {
     "name": "stdout",
     "output_type": "stream",
     "text": [
      " gontla \n"
     ]
    }
   ],
   "source": [
    "print(name1)"
   ]
  },
  {
   "cell_type": "code",
   "execution_count": 59,
   "id": "3a548da5",
   "metadata": {},
   "outputs": [
    {
     "data": {
      "text/plain": [
       "'gontla'"
      ]
     },
     "execution_count": 59,
     "metadata": {},
     "output_type": "execute_result"
    }
   ],
   "source": [
    "name1.strip()"
   ]
  },
  {
   "cell_type": "code",
   "execution_count": null,
   "id": "bbbd07ae",
   "metadata": {},
   "outputs": [],
   "source": []
  }
 ],
 "metadata": {
  "kernelspec": {
   "display_name": "Python 3 (ipykernel)",
   "language": "python",
   "name": "python3"
  },
  "language_info": {
   "codemirror_mode": {
    "name": "ipython",
    "version": 3
   },
   "file_extension": ".py",
   "mimetype": "text/x-python",
   "name": "python",
   "nbconvert_exporter": "python",
   "pygments_lexer": "ipython3",
   "version": "3.10.1"
  }
 },
 "nbformat": 4,
 "nbformat_minor": 5
}
